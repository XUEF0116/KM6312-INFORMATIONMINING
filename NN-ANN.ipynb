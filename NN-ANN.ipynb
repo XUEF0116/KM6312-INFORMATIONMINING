{
 "cells": [
  {
   "cell_type": "code",
   "execution_count": 1,
   "id": "68c28812",
   "metadata": {},
   "outputs": [
    {
     "name": "stdout",
     "output_type": "stream",
     "text": [
      "Epoch 1/10\n",
      "8/8 [==============================] - 15s 133ms/step - loss: 0.4892 - accuracy: 0.7950 - val_loss: 0.5107 - val_accuracy: 0.8833\n",
      "Epoch 2/10\n",
      "8/8 [==============================] - 0s 49ms/step - loss: 0.3640 - accuracy: 0.8828 - val_loss: 0.5123 - val_accuracy: 0.8833\n",
      "Epoch 3/10\n",
      "8/8 [==============================] - 0s 43ms/step - loss: 0.3061 - accuracy: 0.9121 - val_loss: 0.7072 - val_accuracy: 0.8833\n",
      "Epoch 4/10\n",
      "8/8 [==============================] - 0s 48ms/step - loss: 0.3145 - accuracy: 0.9205 - val_loss: 0.5339 - val_accuracy: 0.8833\n",
      "Epoch 5/10\n",
      "8/8 [==============================] - 0s 44ms/step - loss: 0.2939 - accuracy: 0.9331 - val_loss: 0.6805 - val_accuracy: 0.8833\n",
      "Epoch 6/10\n",
      "8/8 [==============================] - 0s 52ms/step - loss: 0.2720 - accuracy: 0.9289 - val_loss: 0.6193 - val_accuracy: 0.8833\n",
      "Epoch 7/10\n",
      "8/8 [==============================] - 0s 52ms/step - loss: 0.2584 - accuracy: 0.9205 - val_loss: 0.8028 - val_accuracy: 0.8833\n",
      "Epoch 8/10\n",
      "8/8 [==============================] - 0s 56ms/step - loss: 0.2250 - accuracy: 0.9247 - val_loss: 0.7422 - val_accuracy: 0.8833\n",
      "Epoch 9/10\n",
      "8/8 [==============================] - 0s 51ms/step - loss: 0.2774 - accuracy: 0.9331 - val_loss: 0.7594 - val_accuracy: 0.8833\n",
      "Epoch 10/10\n",
      "8/8 [==============================] - 0s 41ms/step - loss: 0.2620 - accuracy: 0.9163 - val_loss: 0.6682 - val_accuracy: 0.8833\n",
      "3/3 [==============================] - 0s 5ms/step\n",
      "              precision    recall  f1-score   support\n",
      "\n",
      "     Class 0       0.95      0.93      0.94        43\n",
      "     Class 1       0.91      0.94      0.92        32\n",
      "\n",
      "    accuracy                           0.93        75\n",
      "   macro avg       0.93      0.93      0.93        75\n",
      "weighted avg       0.93      0.93      0.93        75\n",
      "\n"
     ]
    }
   ],
   "source": [
    "import tensorflow as tf\n",
    "from sklearn.metrics import classification_report\n",
    "from sklearn.model_selection import train_test_split\n",
    "from sklearn.preprocessing import StandardScaler\n",
    "import numpy as np\n",
    "import pandas as pd\n",
    "\n",
    "\n",
    "data = pd.read_csv('df_clean.csv')\n",
    "data_clean = data.drop(columns=['Unnamed: 0', 'Person ID'])\n",
    "X = data_clean.drop('Sleep Disorder', axis=1)\n",
    "y = data_clean['Sleep Disorder']\n",
    "\n",
    "# Data Preprocessing\n",
    "scaler = StandardScaler()\n",
    "X_scaled = scaler.fit_transform(X)\n",
    "\n",
    "\n",
    "X_train, X_test, y_train, y_test = train_test_split(X_scaled, y, test_size=0.2, random_state=42)\n",
    "\n",
    "#Computing ann\n",
    "model = tf.keras.Sequential([\n",
    "    tf.keras.layers.Dense(128, activation='relu', input_shape=(X_train.shape[1],)),\n",
    "    tf.keras.layers.Dropout(0.3),\n",
    "    tf.keras.layers.Dense(64, activation='relu'),\n",
    "    tf.keras.layers.Dropout(0.3),\n",
    "    tf.keras.layers.Dense(32, activation='relu'),\n",
    "    tf.keras.layers.Dense(1, activation='sigmoid')\n",
    "])\n",
    "model.compile(optimizer=tf.keras.optimizers.Adam(learning_rate=0.04),\n",
    "              loss='binary_crossentropy',\n",
    "              metrics=['accuracy'])\n",
    "\n",
    "# Model training\n",
    "model.fit(X_train, y_train, epochs=10, validation_split=0.2)\n",
    "\n",
    "# Model evaluating\n",
    "y_pred = model.predict(X_test)\n",
    "y_pred = (y_pred > 0.5).astype(int)  \n",
    "\n",
    "\n",
    "report = classification_report(y_test, y_pred, target_names=['Class 0', 'Class 1'])\n",
    "print(report)\n",
    "\n"
   ]
  },
  {
   "cell_type": "code",
   "execution_count": null,
   "id": "b298b248",
   "metadata": {},
   "outputs": [],
   "source": []
  }
 ],
 "metadata": {
  "kernelspec": {
   "display_name": "Python 3 (ipykernel)",
   "language": "python",
   "name": "python3"
  },
  "language_info": {
   "codemirror_mode": {
    "name": "ipython",
    "version": 3
   },
   "file_extension": ".py",
   "mimetype": "text/x-python",
   "name": "python",
   "nbconvert_exporter": "python",
   "pygments_lexer": "ipython3",
   "version": "3.8.18"
  }
 },
 "nbformat": 4,
 "nbformat_minor": 5
}
